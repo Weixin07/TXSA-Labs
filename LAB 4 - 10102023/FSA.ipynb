{
 "cells": [
  {
   "cell_type": "code",
   "execution_count": 1,
   "metadata": {},
   "outputs": [
    {
     "name": "stdout",
     "output_type": "stream",
     "text": [
      "digraph FSA {\n",
      "\trankdir=LR\n",
      "\tA [label=q0 shape=circle]\n",
      "\tB [label=q1 shape=circle]\n",
      "\tL [label=q2 shape=doublecircle]\n",
      "\tA -> A [label=b]\n",
      "\tA -> B [label=a]\n",
      "\tB -> A [label=b]\n",
      "\tB -> L [label=a]\n",
      "\tL -> A [label=b]\n",
      "\tL -> L [label=a]\n",
      "}\n"
     ]
    },
    {
     "data": {
      "text/plain": [
       "'FSA.gv.pdf'"
      ]
     },
     "execution_count": 1,
     "metadata": {},
     "output_type": "execute_result"
    }
   ],
   "source": [
    "from graphviz import Digraph\n",
    "\n",
    "FSA = Digraph(name='FSA')\n",
    "FSA.attr(rankdir='LR')\n",
    "FSA.node('A', 'q0', shape='circle')\n",
    "FSA.node('B', 'q1', shape='circle')\n",
    "FSA.node('L', 'q2', shape='doublecircle')\n",
    "\n",
    "FSA.edge('A', 'A', label='b')\n",
    "FSA.edge('A', 'B', label='a')\n",
    "FSA.edge('B', 'A', label='b')\n",
    "FSA.edge('B', 'L', label='a')\n",
    "FSA.edge('L', 'A', label='b')\n",
    "FSA.edge('L', 'L', label='a')\n",
    "\n",
    "print(FSA.source)\n",
    "FSA.view() # FSA.render('test-output/round-table.gv', view=True)"
   ]
  },
  {
   "cell_type": "code",
   "execution_count": null,
   "metadata": {},
   "outputs": [],
   "source": []
  }
 ],
 "metadata": {
  "kernelspec": {
   "display_name": "Python 3",
   "language": "python",
   "name": "python3"
  },
  "language_info": {
   "codemirror_mode": {
    "name": "ipython",
    "version": 3
   },
   "file_extension": ".py",
   "mimetype": "text/x-python",
   "name": "python",
   "nbconvert_exporter": "python",
   "pygments_lexer": "ipython3",
   "version": "3.7.3"
  }
 },
 "nbformat": 4,
 "nbformat_minor": 2
}
